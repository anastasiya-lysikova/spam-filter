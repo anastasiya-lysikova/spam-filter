{
 "cells": [
  {
   "cell_type": "markdown",
   "metadata": {},
   "source": [
    "<h1><center>Building Spam Filter with Naive Bayes Algorithm</center></h1>"
   ]
  },
  {
   "cell_type": "markdown",
   "metadata": {},
   "source": [
    "Despite simplifying assumption about independence, the algorithm works quite well in many real-word situations. Let's try to make sure of this in this project."
   ]
  },
  {
   "cell_type": "markdown",
   "metadata": {},
   "source": [
    "For this project, our goal is to create a spam filter that classifies new messages with an accuracy greater than 80% — so we expect that more than 80% of the new messages will be classified correctly as spam or ham (non-spam)."
   ]
  },
  {
   "cell_type": "markdown",
   "metadata": {
    "toc": true
   },
   "source": [
    "<h1>Table of Contents<span class=\"tocSkip\"></span></h1>\n",
    "<div class=\"toc\"><ul class=\"toc-item\"><li><span><a href=\"#Import-Libraries\" data-toc-modified-id=\"Import-Libraries-1\"><span class=\"toc-item-num\">1&nbsp;&nbsp;</span>Import Libraries</a></span></li><li><span><a href=\"#Exploring-the-Dataset\" data-toc-modified-id=\"Exploring-the-Dataset-2\"><span class=\"toc-item-num\">2&nbsp;&nbsp;</span>Exploring the Dataset</a></span></li><li><span><a href=\"#Split-into-Training-and-Testing-Sets\" data-toc-modified-id=\"Split-into-Training-and-Testing-Sets-3\"><span class=\"toc-item-num\">3&nbsp;&nbsp;</span>Split into Training and Testing Sets</a></span></li><li><span><a href=\"#Clean-and-Preprocess-the-Data\" data-toc-modified-id=\"Clean-and-Preprocess-the-Data-4\"><span class=\"toc-item-num\">4&nbsp;&nbsp;</span>Clean and Preprocess the Data</a></span></li><li><span><a href=\"#Calculating-Probabilities-and-Build-Classifier\" data-toc-modified-id=\"Calculating-Probabilities-and-Build-Classifier-5\"><span class=\"toc-item-num\">5&nbsp;&nbsp;</span>Calculating Probabilities and Build Classifier</a></span></li><li><span><a href=\"#Test-the-Classifier\" data-toc-modified-id=\"Test-the-Classifier-6\"><span class=\"toc-item-num\">6&nbsp;&nbsp;</span>Test the Classifier</a></span></li><li><span><a href=\"#Visualize-Word-Cloud\" data-toc-modified-id=\"Visualize-Word-Cloud-7\"><span class=\"toc-item-num\">7&nbsp;&nbsp;</span>Visualize Word Cloud</a></span></li><li><span><a href=\"#Conclusion\" data-toc-modified-id=\"Conclusion-8\"><span class=\"toc-item-num\">8&nbsp;&nbsp;</span>Conclusion</a></span></li></ul></div>"
   ]
  },
  {
   "cell_type": "markdown",
   "metadata": {},
   "source": [
    "## Import Libraries"
   ]
  },
  {
   "cell_type": "code",
   "execution_count": 1,
   "metadata": {},
   "outputs": [
    {
     "data": {
      "application/javascript": [
       "\n",
       "            setTimeout(function() {\n",
       "                var nbb_cell_id = 1;\n",
       "                var nbb_unformatted_code = \"%load_ext nb_black\\nimport pandas as pd\\nimport numpy as np\\nimport matplotlib.pyplot as plt\\nimport re\\n\\nfrom wordcloud import WordCloud\";\n",
       "                var nbb_formatted_code = \"%load_ext nb_black\\nimport pandas as pd\\nimport numpy as np\\nimport matplotlib.pyplot as plt\\nimport re\\n\\nfrom wordcloud import WordCloud\";\n",
       "                var nbb_cells = Jupyter.notebook.get_cells();\n",
       "                for (var i = 0; i < nbb_cells.length; ++i) {\n",
       "                    if (nbb_cells[i].input_prompt_number == nbb_cell_id) {\n",
       "                        if (nbb_cells[i].get_text() == nbb_unformatted_code) {\n",
       "                             nbb_cells[i].set_text(nbb_formatted_code);\n",
       "                        }\n",
       "                        break;\n",
       "                    }\n",
       "                }\n",
       "            }, 500);\n",
       "            "
      ],
      "text/plain": [
       "<IPython.core.display.Javascript object>"
      ]
     },
     "metadata": {},
     "output_type": "display_data"
    }
   ],
   "source": [
    "%load_ext nb_black\n",
    "import pandas as pd\n",
    "import numpy as np\n",
    "import matplotlib.pyplot as plt\n",
    "import re\n",
    "\n",
    "from wordcloud import WordCloud"
   ]
  },
  {
   "cell_type": "markdown",
   "metadata": {},
   "source": [
    "## Exploring the Dataset"
   ]
  },
  {
   "cell_type": "code",
   "execution_count": 2,
   "metadata": {},
   "outputs": [
    {
     "data": {
      "application/javascript": [
       "\n",
       "            setTimeout(function() {\n",
       "                var nbb_cell_id = 2;\n",
       "                var nbb_unformatted_code = \"# the data points are tab separated\\nmessages = pd.read_csv(\\n    \\\"data/SMSSpamCollection\\\", sep=\\\"\\\\t\\\", header=None, names=[\\\"Label\\\", \\\"SMS\\\"]\\n)\";\n",
       "                var nbb_formatted_code = \"# the data points are tab separated\\nmessages = pd.read_csv(\\n    \\\"data/SMSSpamCollection\\\", sep=\\\"\\\\t\\\", header=None, names=[\\\"Label\\\", \\\"SMS\\\"]\\n)\";\n",
       "                var nbb_cells = Jupyter.notebook.get_cells();\n",
       "                for (var i = 0; i < nbb_cells.length; ++i) {\n",
       "                    if (nbb_cells[i].input_prompt_number == nbb_cell_id) {\n",
       "                        if (nbb_cells[i].get_text() == nbb_unformatted_code) {\n",
       "                             nbb_cells[i].set_text(nbb_formatted_code);\n",
       "                        }\n",
       "                        break;\n",
       "                    }\n",
       "                }\n",
       "            }, 500);\n",
       "            "
      ],
      "text/plain": [
       "<IPython.core.display.Javascript object>"
      ]
     },
     "metadata": {},
     "output_type": "display_data"
    }
   ],
   "source": [
    "# the data points are tab separated\n",
    "messages = pd.read_csv(\n",
    "    \"data/SMSSpamCollection\", sep=\"\\t\", header=None, names=[\"Label\", \"SMS\"]\n",
    ")"
   ]
  },
  {
   "cell_type": "code",
   "execution_count": 3,
   "metadata": {},
   "outputs": [
    {
     "name": "stdout",
     "output_type": "stream",
     "text": [
      "<class 'pandas.core.frame.DataFrame'>\n",
      "RangeIndex: 5572 entries, 0 to 5571\n",
      "Data columns (total 2 columns):\n",
      " #   Column  Non-Null Count  Dtype \n",
      "---  ------  --------------  ----- \n",
      " 0   Label   5572 non-null   object\n",
      " 1   SMS     5572 non-null   object\n",
      "dtypes: object(2)\n",
      "memory usage: 87.2+ KB\n"
     ]
    },
    {
     "data": {
      "application/javascript": [
       "\n",
       "            setTimeout(function() {\n",
       "                var nbb_cell_id = 3;\n",
       "                var nbb_unformatted_code = \"# look at columns types and number of rows\\nmessages.info()\";\n",
       "                var nbb_formatted_code = \"# look at columns types and number of rows\\nmessages.info()\";\n",
       "                var nbb_cells = Jupyter.notebook.get_cells();\n",
       "                for (var i = 0; i < nbb_cells.length; ++i) {\n",
       "                    if (nbb_cells[i].input_prompt_number == nbb_cell_id) {\n",
       "                        if (nbb_cells[i].get_text() == nbb_unformatted_code) {\n",
       "                             nbb_cells[i].set_text(nbb_formatted_code);\n",
       "                        }\n",
       "                        break;\n",
       "                    }\n",
       "                }\n",
       "            }, 500);\n",
       "            "
      ],
      "text/plain": [
       "<IPython.core.display.Javascript object>"
      ]
     },
     "metadata": {},
     "output_type": "display_data"
    }
   ],
   "source": [
    "# look at columns types and number of rows\n",
    "messages.info()"
   ]
  },
  {
   "cell_type": "markdown",
   "metadata": {},
   "source": [
    "This dataset has more than 5000 rows, and luckily for us there are no null values. It has only two columns:\n",
    "- `Label` - class spam or ham (non-spam).\n",
    "- `SMS` - text message."
   ]
  },
  {
   "cell_type": "code",
   "execution_count": 4,
   "metadata": {},
   "outputs": [
    {
     "data": {
      "text/html": [
       "<div>\n",
       "<style scoped>\n",
       "    .dataframe tbody tr th:only-of-type {\n",
       "        vertical-align: middle;\n",
       "    }\n",
       "\n",
       "    .dataframe tbody tr th {\n",
       "        vertical-align: top;\n",
       "    }\n",
       "\n",
       "    .dataframe thead th {\n",
       "        text-align: right;\n",
       "    }\n",
       "</style>\n",
       "<table border=\"1\" class=\"dataframe\">\n",
       "  <thead>\n",
       "    <tr style=\"text-align: right;\">\n",
       "      <th></th>\n",
       "      <th>Label</th>\n",
       "      <th>SMS</th>\n",
       "    </tr>\n",
       "  </thead>\n",
       "  <tbody>\n",
       "    <tr>\n",
       "      <th>0</th>\n",
       "      <td>ham</td>\n",
       "      <td>Go until jurong point, crazy.. Available only ...</td>\n",
       "    </tr>\n",
       "    <tr>\n",
       "      <th>1</th>\n",
       "      <td>ham</td>\n",
       "      <td>Ok lar... Joking wif u oni...</td>\n",
       "    </tr>\n",
       "    <tr>\n",
       "      <th>2</th>\n",
       "      <td>spam</td>\n",
       "      <td>Free entry in 2 a wkly comp to win FA Cup fina...</td>\n",
       "    </tr>\n",
       "    <tr>\n",
       "      <th>3</th>\n",
       "      <td>ham</td>\n",
       "      <td>U dun say so early hor... U c already then say...</td>\n",
       "    </tr>\n",
       "    <tr>\n",
       "      <th>4</th>\n",
       "      <td>ham</td>\n",
       "      <td>Nah I don't think he goes to usf, he lives aro...</td>\n",
       "    </tr>\n",
       "  </tbody>\n",
       "</table>\n",
       "</div>"
      ],
      "text/plain": [
       "  Label                                                SMS\n",
       "0   ham  Go until jurong point, crazy.. Available only ...\n",
       "1   ham                      Ok lar... Joking wif u oni...\n",
       "2  spam  Free entry in 2 a wkly comp to win FA Cup fina...\n",
       "3   ham  U dun say so early hor... U c already then say...\n",
       "4   ham  Nah I don't think he goes to usf, he lives aro..."
      ]
     },
     "execution_count": 4,
     "metadata": {},
     "output_type": "execute_result"
    },
    {
     "data": {
      "application/javascript": [
       "\n",
       "            setTimeout(function() {\n",
       "                var nbb_cell_id = 4;\n",
       "                var nbb_unformatted_code = \"# display the first five rows\\nmessages.head()\";\n",
       "                var nbb_formatted_code = \"# display the first five rows\\nmessages.head()\";\n",
       "                var nbb_cells = Jupyter.notebook.get_cells();\n",
       "                for (var i = 0; i < nbb_cells.length; ++i) {\n",
       "                    if (nbb_cells[i].input_prompt_number == nbb_cell_id) {\n",
       "                        if (nbb_cells[i].get_text() == nbb_unformatted_code) {\n",
       "                             nbb_cells[i].set_text(nbb_formatted_code);\n",
       "                        }\n",
       "                        break;\n",
       "                    }\n",
       "                }\n",
       "            }, 500);\n",
       "            "
      ],
      "text/plain": [
       "<IPython.core.display.Javascript object>"
      ]
     },
     "metadata": {},
     "output_type": "display_data"
    }
   ],
   "source": [
    "# display the first five rows\n",
    "messages.head()"
   ]
  },
  {
   "cell_type": "code",
   "execution_count": 5,
   "metadata": {},
   "outputs": [
    {
     "data": {
      "text/html": [
       "<div>\n",
       "<style scoped>\n",
       "    .dataframe tbody tr th:only-of-type {\n",
       "        vertical-align: middle;\n",
       "    }\n",
       "\n",
       "    .dataframe tbody tr th {\n",
       "        vertical-align: top;\n",
       "    }\n",
       "\n",
       "    .dataframe thead th {\n",
       "        text-align: right;\n",
       "    }\n",
       "</style>\n",
       "<table border=\"1\" class=\"dataframe\">\n",
       "  <thead>\n",
       "    <tr style=\"text-align: right;\">\n",
       "      <th></th>\n",
       "      <th>Label</th>\n",
       "      <th>SMS</th>\n",
       "    </tr>\n",
       "  </thead>\n",
       "  <tbody>\n",
       "    <tr>\n",
       "      <th>5567</th>\n",
       "      <td>spam</td>\n",
       "      <td>This is the 2nd time we have tried 2 contact u...</td>\n",
       "    </tr>\n",
       "    <tr>\n",
       "      <th>5568</th>\n",
       "      <td>ham</td>\n",
       "      <td>Will ü b going to esplanade fr home?</td>\n",
       "    </tr>\n",
       "    <tr>\n",
       "      <th>5569</th>\n",
       "      <td>ham</td>\n",
       "      <td>Pity, * was in mood for that. So...any other s...</td>\n",
       "    </tr>\n",
       "    <tr>\n",
       "      <th>5570</th>\n",
       "      <td>ham</td>\n",
       "      <td>The guy did some bitching but I acted like i'd...</td>\n",
       "    </tr>\n",
       "    <tr>\n",
       "      <th>5571</th>\n",
       "      <td>ham</td>\n",
       "      <td>Rofl. Its true to its name</td>\n",
       "    </tr>\n",
       "  </tbody>\n",
       "</table>\n",
       "</div>"
      ],
      "text/plain": [
       "     Label                                                SMS\n",
       "5567  spam  This is the 2nd time we have tried 2 contact u...\n",
       "5568   ham               Will ü b going to esplanade fr home?\n",
       "5569   ham  Pity, * was in mood for that. So...any other s...\n",
       "5570   ham  The guy did some bitching but I acted like i'd...\n",
       "5571   ham                         Rofl. Its true to its name"
      ]
     },
     "execution_count": 5,
     "metadata": {},
     "output_type": "execute_result"
    },
    {
     "data": {
      "application/javascript": [
       "\n",
       "            setTimeout(function() {\n",
       "                var nbb_cell_id = 5;\n",
       "                var nbb_unformatted_code = \"# display the last five rows\\nmessages.tail()\";\n",
       "                var nbb_formatted_code = \"# display the last five rows\\nmessages.tail()\";\n",
       "                var nbb_cells = Jupyter.notebook.get_cells();\n",
       "                for (var i = 0; i < nbb_cells.length; ++i) {\n",
       "                    if (nbb_cells[i].input_prompt_number == nbb_cell_id) {\n",
       "                        if (nbb_cells[i].get_text() == nbb_unformatted_code) {\n",
       "                             nbb_cells[i].set_text(nbb_formatted_code);\n",
       "                        }\n",
       "                        break;\n",
       "                    }\n",
       "                }\n",
       "            }, 500);\n",
       "            "
      ],
      "text/plain": [
       "<IPython.core.display.Javascript object>"
      ]
     },
     "metadata": {},
     "output_type": "display_data"
    }
   ],
   "source": [
    "# display the last five rows\n",
    "messages.tail()"
   ]
  },
  {
   "cell_type": "code",
   "execution_count": 6,
   "metadata": {},
   "outputs": [
    {
     "data": {
      "text/html": [
       "<div>\n",
       "<style scoped>\n",
       "    .dataframe tbody tr th:only-of-type {\n",
       "        vertical-align: middle;\n",
       "    }\n",
       "\n",
       "    .dataframe tbody tr th {\n",
       "        vertical-align: top;\n",
       "    }\n",
       "\n",
       "    .dataframe thead th {\n",
       "        text-align: right;\n",
       "    }\n",
       "</style>\n",
       "<table border=\"1\" class=\"dataframe\">\n",
       "  <thead>\n",
       "    <tr style=\"text-align: right;\">\n",
       "      <th></th>\n",
       "      <th>Label</th>\n",
       "      <th>SMS</th>\n",
       "    </tr>\n",
       "  </thead>\n",
       "  <tbody>\n",
       "    <tr>\n",
       "      <th>count</th>\n",
       "      <td>5572</td>\n",
       "      <td>5572</td>\n",
       "    </tr>\n",
       "    <tr>\n",
       "      <th>unique</th>\n",
       "      <td>2</td>\n",
       "      <td>5169</td>\n",
       "    </tr>\n",
       "    <tr>\n",
       "      <th>top</th>\n",
       "      <td>ham</td>\n",
       "      <td>Sorry, I'll call later</td>\n",
       "    </tr>\n",
       "    <tr>\n",
       "      <th>freq</th>\n",
       "      <td>4825</td>\n",
       "      <td>30</td>\n",
       "    </tr>\n",
       "  </tbody>\n",
       "</table>\n",
       "</div>"
      ],
      "text/plain": [
       "       Label                     SMS\n",
       "count   5572                    5572\n",
       "unique     2                    5169\n",
       "top      ham  Sorry, I'll call later\n",
       "freq    4825                      30"
      ]
     },
     "execution_count": 6,
     "metadata": {},
     "output_type": "execute_result"
    },
    {
     "data": {
      "application/javascript": [
       "\n",
       "            setTimeout(function() {\n",
       "                var nbb_cell_id = 6;\n",
       "                var nbb_unformatted_code = \"# explore main statistics\\nmessages.describe()\";\n",
       "                var nbb_formatted_code = \"# explore main statistics\\nmessages.describe()\";\n",
       "                var nbb_cells = Jupyter.notebook.get_cells();\n",
       "                for (var i = 0; i < nbb_cells.length; ++i) {\n",
       "                    if (nbb_cells[i].input_prompt_number == nbb_cell_id) {\n",
       "                        if (nbb_cells[i].get_text() == nbb_unformatted_code) {\n",
       "                             nbb_cells[i].set_text(nbb_formatted_code);\n",
       "                        }\n",
       "                        break;\n",
       "                    }\n",
       "                }\n",
       "            }, 500);\n",
       "            "
      ],
      "text/plain": [
       "<IPython.core.display.Javascript object>"
      ]
     },
     "metadata": {},
     "output_type": "display_data"
    }
   ],
   "source": [
    "# explore main statistics\n",
    "messages.describe()"
   ]
  },
  {
   "cell_type": "markdown",
   "metadata": {},
   "source": [
    "Let's find what percentage of the messages is spam and what percentage is non-spam (ham)."
   ]
  },
  {
   "cell_type": "code",
   "execution_count": 7,
   "metadata": {},
   "outputs": [
    {
     "data": {
      "text/plain": [
       "ham     0.865937\n",
       "spam    0.134063\n",
       "Name: Label, dtype: float64"
      ]
     },
     "execution_count": 7,
     "metadata": {},
     "output_type": "execute_result"
    },
    {
     "data": {
      "application/javascript": [
       "\n",
       "            setTimeout(function() {\n",
       "                var nbb_cell_id = 7;\n",
       "                var nbb_unformatted_code = \"messages[\\\"Label\\\"].value_counts(normalize=True)\";\n",
       "                var nbb_formatted_code = \"messages[\\\"Label\\\"].value_counts(normalize=True)\";\n",
       "                var nbb_cells = Jupyter.notebook.get_cells();\n",
       "                for (var i = 0; i < nbb_cells.length; ++i) {\n",
       "                    if (nbb_cells[i].input_prompt_number == nbb_cell_id) {\n",
       "                        if (nbb_cells[i].get_text() == nbb_unformatted_code) {\n",
       "                             nbb_cells[i].set_text(nbb_formatted_code);\n",
       "                        }\n",
       "                        break;\n",
       "                    }\n",
       "                }\n",
       "            }, 500);\n",
       "            "
      ],
      "text/plain": [
       "<IPython.core.display.Javascript object>"
      ]
     },
     "metadata": {},
     "output_type": "display_data"
    }
   ],
   "source": [
    "messages[\"Label\"].value_counts(normalize=True)"
   ]
  },
  {
   "cell_type": "markdown",
   "metadata": {},
   "source": [
    "There are about 87% non-spam messages, and remaining 13% are spam."
   ]
  },
  {
   "cell_type": "markdown",
   "metadata": {},
   "source": [
    "## Split into Training and Testing Sets"
   ]
  },
  {
   "cell_type": "markdown",
   "metadata": {},
   "source": [
    "We'll keep 80% of our dataset for training, and 20% for testing. We're going to start by randomizing the entire dataset to ensure that spam and ham messages are spread properly throughout the dataset."
   ]
  },
  {
   "cell_type": "code",
   "execution_count": 8,
   "metadata": {},
   "outputs": [
    {
     "data": {
      "application/javascript": [
       "\n",
       "            setTimeout(function() {\n",
       "                var nbb_cell_id = 8;\n",
       "                var nbb_unformatted_code = \"messages_randomized = messages.sample(frac=1, random_state=1)\";\n",
       "                var nbb_formatted_code = \"messages_randomized = messages.sample(frac=1, random_state=1)\";\n",
       "                var nbb_cells = Jupyter.notebook.get_cells();\n",
       "                for (var i = 0; i < nbb_cells.length; ++i) {\n",
       "                    if (nbb_cells[i].input_prompt_number == nbb_cell_id) {\n",
       "                        if (nbb_cells[i].get_text() == nbb_unformatted_code) {\n",
       "                             nbb_cells[i].set_text(nbb_formatted_code);\n",
       "                        }\n",
       "                        break;\n",
       "                    }\n",
       "                }\n",
       "            }, 500);\n",
       "            "
      ],
      "text/plain": [
       "<IPython.core.display.Javascript object>"
      ]
     },
     "metadata": {},
     "output_type": "display_data"
    }
   ],
   "source": [
    "messages_randomized = messages.sample(frac=1, random_state=1)"
   ]
  },
  {
   "cell_type": "code",
   "execution_count": 9,
   "metadata": {},
   "outputs": [
    {
     "data": {
      "application/javascript": [
       "\n",
       "            setTimeout(function() {\n",
       "                var nbb_cell_id = 9;\n",
       "                var nbb_unformatted_code = \"# Calculate index for split\\nsplit_index = round(len(messages_randomized) * 0.8)\\n\\n# spliting the data\\nmessages_train = messages_randomized[:split_index].copy()\\nmessages_test = messages_randomized[split_index:].copy()\";\n",
       "                var nbb_formatted_code = \"# Calculate index for split\\nsplit_index = round(len(messages_randomized) * 0.8)\\n\\n# spliting the data\\nmessages_train = messages_randomized[:split_index].copy()\\nmessages_test = messages_randomized[split_index:].copy()\";\n",
       "                var nbb_cells = Jupyter.notebook.get_cells();\n",
       "                for (var i = 0; i < nbb_cells.length; ++i) {\n",
       "                    if (nbb_cells[i].input_prompt_number == nbb_cell_id) {\n",
       "                        if (nbb_cells[i].get_text() == nbb_unformatted_code) {\n",
       "                             nbb_cells[i].set_text(nbb_formatted_code);\n",
       "                        }\n",
       "                        break;\n",
       "                    }\n",
       "                }\n",
       "            }, 500);\n",
       "            "
      ],
      "text/plain": [
       "<IPython.core.display.Javascript object>"
      ]
     },
     "metadata": {},
     "output_type": "display_data"
    }
   ],
   "source": [
    "# Calculate index for split\n",
    "split_index = round(len(messages_randomized) * 0.8)\n",
    "\n",
    "# spliting the data\n",
    "messages_train = messages_randomized[:split_index].copy()\n",
    "messages_test = messages_randomized[split_index:].copy()"
   ]
  },
  {
   "cell_type": "markdown",
   "metadata": {},
   "source": [
    "Check that the percentages similar to what we have in the full dataset:"
   ]
  },
  {
   "cell_type": "code",
   "execution_count": 10,
   "metadata": {},
   "outputs": [
    {
     "data": {
      "text/plain": [
       "ham     0.86541\n",
       "spam    0.13459\n",
       "Name: Label, dtype: float64"
      ]
     },
     "execution_count": 10,
     "metadata": {},
     "output_type": "execute_result"
    },
    {
     "data": {
      "application/javascript": [
       "\n",
       "            setTimeout(function() {\n",
       "                var nbb_cell_id = 10;\n",
       "                var nbb_unformatted_code = \"messages_train[\\\"Label\\\"].value_counts(normalize=True)\";\n",
       "                var nbb_formatted_code = \"messages_train[\\\"Label\\\"].value_counts(normalize=True)\";\n",
       "                var nbb_cells = Jupyter.notebook.get_cells();\n",
       "                for (var i = 0; i < nbb_cells.length; ++i) {\n",
       "                    if (nbb_cells[i].input_prompt_number == nbb_cell_id) {\n",
       "                        if (nbb_cells[i].get_text() == nbb_unformatted_code) {\n",
       "                             nbb_cells[i].set_text(nbb_formatted_code);\n",
       "                        }\n",
       "                        break;\n",
       "                    }\n",
       "                }\n",
       "            }, 500);\n",
       "            "
      ],
      "text/plain": [
       "<IPython.core.display.Javascript object>"
      ]
     },
     "metadata": {},
     "output_type": "display_data"
    }
   ],
   "source": [
    "messages_train[\"Label\"].value_counts(normalize=True)"
   ]
  },
  {
   "cell_type": "code",
   "execution_count": 11,
   "metadata": {},
   "outputs": [
    {
     "data": {
      "text/plain": [
       "ham     0.868043\n",
       "spam    0.131957\n",
       "Name: Label, dtype: float64"
      ]
     },
     "execution_count": 11,
     "metadata": {},
     "output_type": "execute_result"
    },
    {
     "data": {
      "application/javascript": [
       "\n",
       "            setTimeout(function() {\n",
       "                var nbb_cell_id = 11;\n",
       "                var nbb_unformatted_code = \"messages_test[\\\"Label\\\"].value_counts(normalize=True)\";\n",
       "                var nbb_formatted_code = \"messages_test[\\\"Label\\\"].value_counts(normalize=True)\";\n",
       "                var nbb_cells = Jupyter.notebook.get_cells();\n",
       "                for (var i = 0; i < nbb_cells.length; ++i) {\n",
       "                    if (nbb_cells[i].input_prompt_number == nbb_cell_id) {\n",
       "                        if (nbb_cells[i].get_text() == nbb_unformatted_code) {\n",
       "                             nbb_cells[i].set_text(nbb_formatted_code);\n",
       "                        }\n",
       "                        break;\n",
       "                    }\n",
       "                }\n",
       "            }, 500);\n",
       "            "
      ],
      "text/plain": [
       "<IPython.core.display.Javascript object>"
      ]
     },
     "metadata": {},
     "output_type": "display_data"
    }
   ],
   "source": [
    "messages_test[\"Label\"].value_counts(normalize=True)"
   ]
  },
  {
   "cell_type": "markdown",
   "metadata": {},
   "source": [
    "## Clean and Preprocess the Data"
   ]
  },
  {
   "cell_type": "markdown",
   "metadata": {},
   "source": [
    "The next step is to use the training set to teach the algorithm to classify new messages.\n",
    "\n",
    "Algorithm will make the classification based on the results of two equations:"
   ]
  },
  {
   "cell_type": "markdown",
   "metadata": {},
   "source": [
    "$P(Spam|w_{1},w_{2},...,w_{n})∝ P(Spam)\\prod \\limits_{i=1}^{n} P(w_{i}|Spam)$"
   ]
  },
  {
   "cell_type": "markdown",
   "metadata": {},
   "source": [
    "$P(Non-Spam|w_{1},w_{2},...,w_{n})∝ P(Non-Spam)\\prod \\limits_{i=1}^{n} P(w_{i}|Non-Spam)$"
   ]
  },
  {
   "cell_type": "markdown",
   "metadata": {},
   "source": [
    "Also we need to calculate probabilities $P(w_{i}|Spam)$ and $P(w_{i}| Non-Spam)$:"
   ]
  },
  {
   "cell_type": "markdown",
   "metadata": {},
   "source": [
    "$P(w_{i}|Spam)=\\large\\frac{N_{w_{i}|Spam} + \\alpha}{N_{Spam} + \\alpha N_{Vocabulary}} $"
   ]
  },
  {
   "cell_type": "markdown",
   "metadata": {},
   "source": [
    "$P(w_{i}|Non-Spam)=\\large\\frac{N_{w_{i}|Non-Spam} + \\alpha}{N_{Non-Spam} + \\alpha N_{Vocabulary}} $"
   ]
  },
  {
   "cell_type": "markdown",
   "metadata": {},
   "source": [
    "To calculate these probabilities, we need to clean and preprocess the data. We'll remove punctuation and bring all words to lower case. In addition the data must be transformed in the following format: column `SMS` will be replaced by a series of new columns, where each column represents a unique word from the vocabulary. And each row represents single message, where values in columns describe how many times each word occurs inside the message. "
   ]
  },
  {
   "cell_type": "code",
   "execution_count": 12,
   "metadata": {},
   "outputs": [
    {
     "data": {
      "application/javascript": [
       "\n",
       "            setTimeout(function() {\n",
       "                var nbb_cell_id = 12;\n",
       "                var nbb_unformatted_code = \"SPAM = \\\"spam\\\"\\nHAM = \\\"ham\\\"\";\n",
       "                var nbb_formatted_code = \"SPAM = \\\"spam\\\"\\nHAM = \\\"ham\\\"\";\n",
       "                var nbb_cells = Jupyter.notebook.get_cells();\n",
       "                for (var i = 0; i < nbb_cells.length; ++i) {\n",
       "                    if (nbb_cells[i].input_prompt_number == nbb_cell_id) {\n",
       "                        if (nbb_cells[i].get_text() == nbb_unformatted_code) {\n",
       "                             nbb_cells[i].set_text(nbb_formatted_code);\n",
       "                        }\n",
       "                        break;\n",
       "                    }\n",
       "                }\n",
       "            }, 500);\n",
       "            "
      ],
      "text/plain": [
       "<IPython.core.display.Javascript object>"
      ]
     },
     "metadata": {},
     "output_type": "display_data"
    }
   ],
   "source": [
    "SPAM = \"spam\"\n",
    "HAM = \"ham\""
   ]
  },
  {
   "cell_type": "code",
   "execution_count": 13,
   "metadata": {},
   "outputs": [
    {
     "data": {
      "application/javascript": [
       "\n",
       "            setTimeout(function() {\n",
       "                var nbb_cell_id = 13;\n",
       "                var nbb_unformatted_code = \"# remove punctuation and transform to lower case\\nmessages_train[\\\"SMS_preprocessed\\\"] = (\\n    messages_train[\\\"SMS\\\"].str.replace(r\\\"\\\\W\\\", \\\" \\\", regex=True).str.lower()\\n)\";\n",
       "                var nbb_formatted_code = \"# remove punctuation and transform to lower case\\nmessages_train[\\\"SMS_preprocessed\\\"] = (\\n    messages_train[\\\"SMS\\\"].str.replace(r\\\"\\\\W\\\", \\\" \\\", regex=True).str.lower()\\n)\";\n",
       "                var nbb_cells = Jupyter.notebook.get_cells();\n",
       "                for (var i = 0; i < nbb_cells.length; ++i) {\n",
       "                    if (nbb_cells[i].input_prompt_number == nbb_cell_id) {\n",
       "                        if (nbb_cells[i].get_text() == nbb_unformatted_code) {\n",
       "                             nbb_cells[i].set_text(nbb_formatted_code);\n",
       "                        }\n",
       "                        break;\n",
       "                    }\n",
       "                }\n",
       "            }, 500);\n",
       "            "
      ],
      "text/plain": [
       "<IPython.core.display.Javascript object>"
      ]
     },
     "metadata": {},
     "output_type": "display_data"
    }
   ],
   "source": [
    "# remove punctuation and transform to lower case\n",
    "messages_train[\"SMS_preprocessed\"] = (\n",
    "    messages_train[\"SMS\"].str.replace(r\"\\W\", \" \", regex=True).str.lower()\n",
    ")"
   ]
  },
  {
   "cell_type": "markdown",
   "metadata": {},
   "source": [
    "Let's calculate $Vocabulary$ - all unique words that occur in the messages of our training set. "
   ]
  },
  {
   "cell_type": "code",
   "execution_count": 14,
   "metadata": {},
   "outputs": [
    {
     "data": {
      "application/javascript": [
       "\n",
       "            setTimeout(function() {\n",
       "                var nbb_cell_id = 14;\n",
       "                var nbb_unformatted_code = \"vocabulary = messages_train[\\\"SMS_preprocessed\\\"].str.split().values\";\n",
       "                var nbb_formatted_code = \"vocabulary = messages_train[\\\"SMS_preprocessed\\\"].str.split().values\";\n",
       "                var nbb_cells = Jupyter.notebook.get_cells();\n",
       "                for (var i = 0; i < nbb_cells.length; ++i) {\n",
       "                    if (nbb_cells[i].input_prompt_number == nbb_cell_id) {\n",
       "                        if (nbb_cells[i].get_text() == nbb_unformatted_code) {\n",
       "                             nbb_cells[i].set_text(nbb_formatted_code);\n",
       "                        }\n",
       "                        break;\n",
       "                    }\n",
       "                }\n",
       "            }, 500);\n",
       "            "
      ],
      "text/plain": [
       "<IPython.core.display.Javascript object>"
      ]
     },
     "metadata": {},
     "output_type": "display_data"
    }
   ],
   "source": [
    "vocabulary = messages_train[\"SMS_preprocessed\"].str.split().values"
   ]
  },
  {
   "cell_type": "code",
   "execution_count": 15,
   "metadata": {},
   "outputs": [
    {
     "data": {
      "application/javascript": [
       "\n",
       "            setTimeout(function() {\n",
       "                var nbb_cell_id = 15;\n",
       "                var nbb_unformatted_code = \"# transform the vocabulary list into a set using the set() function,\\n# this will remove the duplicates from the vocabulary list\\nvocabulary = list(set(np.concatenate(vocabulary)))\";\n",
       "                var nbb_formatted_code = \"# transform the vocabulary list into a set using the set() function,\\n# this will remove the duplicates from the vocabulary list\\nvocabulary = list(set(np.concatenate(vocabulary)))\";\n",
       "                var nbb_cells = Jupyter.notebook.get_cells();\n",
       "                for (var i = 0; i < nbb_cells.length; ++i) {\n",
       "                    if (nbb_cells[i].input_prompt_number == nbb_cell_id) {\n",
       "                        if (nbb_cells[i].get_text() == nbb_unformatted_code) {\n",
       "                             nbb_cells[i].set_text(nbb_formatted_code);\n",
       "                        }\n",
       "                        break;\n",
       "                    }\n",
       "                }\n",
       "            }, 500);\n",
       "            "
      ],
      "text/plain": [
       "<IPython.core.display.Javascript object>"
      ]
     },
     "metadata": {},
     "output_type": "display_data"
    }
   ],
   "source": [
    "# transform the vocabulary list into a set using the set() function,\n",
    "# this will remove the duplicates from the vocabulary list\n",
    "vocabulary = list(set(np.concatenate(vocabulary)))"
   ]
  },
  {
   "cell_type": "code",
   "execution_count": 16,
   "metadata": {},
   "outputs": [
    {
     "data": {
      "application/javascript": [
       "\n",
       "            setTimeout(function() {\n",
       "                var nbb_cell_id = 16;\n",
       "                var nbb_unformatted_code = \"# transform message into list of words\\nmessages_train.loc[:, \\\"SMS_preprocessed\\\"] = messages_train.loc[\\n    :, \\\"SMS_preprocessed\\\"\\n].str.split()\";\n",
       "                var nbb_formatted_code = \"# transform message into list of words\\nmessages_train.loc[:, \\\"SMS_preprocessed\\\"] = messages_train.loc[\\n    :, \\\"SMS_preprocessed\\\"\\n].str.split()\";\n",
       "                var nbb_cells = Jupyter.notebook.get_cells();\n",
       "                for (var i = 0; i < nbb_cells.length; ++i) {\n",
       "                    if (nbb_cells[i].input_prompt_number == nbb_cell_id) {\n",
       "                        if (nbb_cells[i].get_text() == nbb_unformatted_code) {\n",
       "                             nbb_cells[i].set_text(nbb_formatted_code);\n",
       "                        }\n",
       "                        break;\n",
       "                    }\n",
       "                }\n",
       "            }, 500);\n",
       "            "
      ],
      "text/plain": [
       "<IPython.core.display.Javascript object>"
      ]
     },
     "metadata": {},
     "output_type": "display_data"
    }
   ],
   "source": [
    "# transform message into list of words\n",
    "messages_train.loc[:, \"SMS_preprocessed\"] = messages_train.loc[\n",
    "    :, \"SMS_preprocessed\"\n",
    "].str.split()"
   ]
  },
  {
   "cell_type": "markdown",
   "metadata": {},
   "source": [
    "We're going to create a new DataFrame `word_counts_per_sms`, where every column in the `word_counts_per_sms` represents a unique word in our `vocabulary` and each column shows the frequency of that unique word for any given message."
   ]
  },
  {
   "cell_type": "code",
   "execution_count": 17,
   "metadata": {},
   "outputs": [
    {
     "name": "stderr",
     "output_type": "stream",
     "text": [
      "C:\\ProgramData\\Anaconda3\\lib\\site-packages\\ipykernel_launcher.py:2: DeprecationWarning: The default dtype for empty Series will be 'object' instead of 'float64' in a future version. Specify a dtype explicitly to silence this warning.\n",
      "  \n"
     ]
    },
    {
     "data": {
      "application/javascript": [
       "\n",
       "            setTimeout(function() {\n",
       "                var nbb_cell_id = 17;\n",
       "                var nbb_unformatted_code = \"word_counts_per_sms = messages_train[\\\"SMS_preprocessed\\\"].apply(\\n    lambda x: pd.Series(x).value_counts()\\n)\";\n",
       "                var nbb_formatted_code = \"word_counts_per_sms = messages_train[\\\"SMS_preprocessed\\\"].apply(\\n    lambda x: pd.Series(x).value_counts()\\n)\";\n",
       "                var nbb_cells = Jupyter.notebook.get_cells();\n",
       "                for (var i = 0; i < nbb_cells.length; ++i) {\n",
       "                    if (nbb_cells[i].input_prompt_number == nbb_cell_id) {\n",
       "                        if (nbb_cells[i].get_text() == nbb_unformatted_code) {\n",
       "                             nbb_cells[i].set_text(nbb_formatted_code);\n",
       "                        }\n",
       "                        break;\n",
       "                    }\n",
       "                }\n",
       "            }, 500);\n",
       "            "
      ],
      "text/plain": [
       "<IPython.core.display.Javascript object>"
      ]
     },
     "metadata": {},
     "output_type": "display_data"
    }
   ],
   "source": [
    "word_counts_per_sms = messages_train[\"SMS_preprocessed\"].apply(\n",
    "    lambda x: pd.Series(x).value_counts()\n",
    ")"
   ]
  },
  {
   "cell_type": "markdown",
   "metadata": {},
   "source": [
    "Let's test, that everything looks as expected."
   ]
  },
  {
   "cell_type": "code",
   "execution_count": 18,
   "metadata": {},
   "outputs": [
    {
     "data": {
      "text/plain": [
       "['yep', 'by', 'the', 'pretty', 'sculpture']"
      ]
     },
     "execution_count": 18,
     "metadata": {},
     "output_type": "execute_result"
    },
    {
     "data": {
      "application/javascript": [
       "\n",
       "            setTimeout(function() {\n",
       "                var nbb_cell_id = 18;\n",
       "                var nbb_unformatted_code = \"# check the first message\\nmessages_train[\\\"SMS_preprocessed\\\"].iloc[0]\";\n",
       "                var nbb_formatted_code = \"# check the first message\\nmessages_train[\\\"SMS_preprocessed\\\"].iloc[0]\";\n",
       "                var nbb_cells = Jupyter.notebook.get_cells();\n",
       "                for (var i = 0; i < nbb_cells.length; ++i) {\n",
       "                    if (nbb_cells[i].input_prompt_number == nbb_cell_id) {\n",
       "                        if (nbb_cells[i].get_text() == nbb_unformatted_code) {\n",
       "                             nbb_cells[i].set_text(nbb_formatted_code);\n",
       "                        }\n",
       "                        break;\n",
       "                    }\n",
       "                }\n",
       "            }, 500);\n",
       "            "
      ],
      "text/plain": [
       "<IPython.core.display.Javascript object>"
      ]
     },
     "metadata": {},
     "output_type": "display_data"
    }
   ],
   "source": [
    "# check the first message\n",
    "messages_train[\"SMS_preprocessed\"].iloc[0]"
   ]
  },
  {
   "cell_type": "code",
   "execution_count": 19,
   "metadata": {},
   "outputs": [
    {
     "data": {
      "text/html": [
       "<div>\n",
       "<style scoped>\n",
       "    .dataframe tbody tr th:only-of-type {\n",
       "        vertical-align: middle;\n",
       "    }\n",
       "\n",
       "    .dataframe tbody tr th {\n",
       "        vertical-align: top;\n",
       "    }\n",
       "\n",
       "    .dataframe thead th {\n",
       "        text-align: right;\n",
       "    }\n",
       "</style>\n",
       "<table border=\"1\" class=\"dataframe\">\n",
       "  <thead>\n",
       "    <tr style=\"text-align: right;\">\n",
       "      <th></th>\n",
       "      <th>by</th>\n",
       "      <th>pretty</th>\n",
       "      <th>sculpture</th>\n",
       "      <th>the</th>\n",
       "      <th>yep</th>\n",
       "    </tr>\n",
       "  </thead>\n",
       "  <tbody>\n",
       "    <tr>\n",
       "      <th>1078</th>\n",
       "      <td>1.0</td>\n",
       "      <td>1.0</td>\n",
       "      <td>1.0</td>\n",
       "      <td>1.0</td>\n",
       "      <td>1.0</td>\n",
       "    </tr>\n",
       "  </tbody>\n",
       "</table>\n",
       "</div>"
      ],
      "text/plain": [
       "       by  pretty  sculpture  the  yep\n",
       "1078  1.0     1.0        1.0  1.0  1.0"
      ]
     },
     "execution_count": 19,
     "metadata": {},
     "output_type": "execute_result"
    },
    {
     "data": {
      "application/javascript": [
       "\n",
       "            setTimeout(function() {\n",
       "                var nbb_cell_id = 19;\n",
       "                var nbb_unformatted_code = \"# check\\ntest = word_counts_per_sms.iloc[[0]]\\n\\n# display only relevant columns\\nnot_null_columns = test.columns[test.notnull().any()]\\ntest[not_null_columns]\";\n",
       "                var nbb_formatted_code = \"# check\\ntest = word_counts_per_sms.iloc[[0]]\\n\\n# display only relevant columns\\nnot_null_columns = test.columns[test.notnull().any()]\\ntest[not_null_columns]\";\n",
       "                var nbb_cells = Jupyter.notebook.get_cells();\n",
       "                for (var i = 0; i < nbb_cells.length; ++i) {\n",
       "                    if (nbb_cells[i].input_prompt_number == nbb_cell_id) {\n",
       "                        if (nbb_cells[i].get_text() == nbb_unformatted_code) {\n",
       "                             nbb_cells[i].set_text(nbb_formatted_code);\n",
       "                        }\n",
       "                        break;\n",
       "                    }\n",
       "                }\n",
       "            }, 500);\n",
       "            "
      ],
      "text/plain": [
       "<IPython.core.display.Javascript object>"
      ]
     },
     "metadata": {},
     "output_type": "display_data"
    }
   ],
   "source": [
    "# check\n",
    "test = word_counts_per_sms.iloc[[0]]\n",
    "\n",
    "# display only relevant columns\n",
    "not_null_columns = test.columns[test.notnull().any()]\n",
    "test[not_null_columns]"
   ]
  },
  {
   "cell_type": "markdown",
   "metadata": {},
   "source": [
    "Great, now we can move on."
   ]
  },
  {
   "cell_type": "code",
   "execution_count": 20,
   "metadata": {},
   "outputs": [
    {
     "data": {
      "application/javascript": [
       "\n",
       "            setTimeout(function() {\n",
       "                var nbb_cell_id = 20;\n",
       "                var nbb_unformatted_code = \"# replace NaN with 0\\nword_counts_per_sms.fillna(0, inplace=True)\";\n",
       "                var nbb_formatted_code = \"# replace NaN with 0\\nword_counts_per_sms.fillna(0, inplace=True)\";\n",
       "                var nbb_cells = Jupyter.notebook.get_cells();\n",
       "                for (var i = 0; i < nbb_cells.length; ++i) {\n",
       "                    if (nbb_cells[i].input_prompt_number == nbb_cell_id) {\n",
       "                        if (nbb_cells[i].get_text() == nbb_unformatted_code) {\n",
       "                             nbb_cells[i].set_text(nbb_formatted_code);\n",
       "                        }\n",
       "                        break;\n",
       "                    }\n",
       "                }\n",
       "            }, 500);\n",
       "            "
      ],
      "text/plain": [
       "<IPython.core.display.Javascript object>"
      ]
     },
     "metadata": {},
     "output_type": "display_data"
    }
   ],
   "source": [
    "# replace NaN with 0\n",
    "word_counts_per_sms.fillna(0, inplace=True)"
   ]
  },
  {
   "cell_type": "markdown",
   "metadata": {},
   "source": [
    "We'll concatenate the `word_counts_per_sms` we just built above with the DataFrame containing the training set in order to have `Label` and `SMS`columns."
   ]
  },
  {
   "cell_type": "code",
   "execution_count": 21,
   "metadata": {},
   "outputs": [
    {
     "data": {
      "application/javascript": [
       "\n",
       "            setTimeout(function() {\n",
       "                var nbb_cell_id = 21;\n",
       "                var nbb_unformatted_code = \"messages_train = pd.concat([messages_train, word_counts_per_sms], axis=1)\";\n",
       "                var nbb_formatted_code = \"messages_train = pd.concat([messages_train, word_counts_per_sms], axis=1)\";\n",
       "                var nbb_cells = Jupyter.notebook.get_cells();\n",
       "                for (var i = 0; i < nbb_cells.length; ++i) {\n",
       "                    if (nbb_cells[i].input_prompt_number == nbb_cell_id) {\n",
       "                        if (nbb_cells[i].get_text() == nbb_unformatted_code) {\n",
       "                             nbb_cells[i].set_text(nbb_formatted_code);\n",
       "                        }\n",
       "                        break;\n",
       "                    }\n",
       "                }\n",
       "            }, 500);\n",
       "            "
      ],
      "text/plain": [
       "<IPython.core.display.Javascript object>"
      ]
     },
     "metadata": {},
     "output_type": "display_data"
    }
   ],
   "source": [
    "messages_train = pd.concat([messages_train, word_counts_per_sms], axis=1)"
   ]
  },
  {
   "cell_type": "markdown",
   "metadata": {},
   "source": [
    "## Calculating Probabilities and Build Classifier"
   ]
  },
  {
   "cell_type": "markdown",
   "metadata": {},
   "source": [
    "First of all, we'll calculate constant terms $P(Spam)$, $P(Ham)$, $N_{Spam}$, $N_{Ham}$, $N_{Vocabulary}$.\n",
    "\n",
    "As reminder:\n",
    "- $P(Spam)$ - probability of spam message\n",
    "- $P(Ham)$ - probability of non-spam message\n",
    "- $N_{Spam}$ - the number of the all words (not unique) in the all spam messages\n",
    "- $N_{Ham}$ - the number of the all words (not unique) in the all non-spam messages\n",
    "- $N_{Vocabulary}$ - the number of the all unique words in the all messages"
   ]
  },
  {
   "cell_type": "code",
   "execution_count": 22,
   "metadata": {},
   "outputs": [
    {
     "data": {
      "application/javascript": [
       "\n",
       "            setTimeout(function() {\n",
       "                var nbb_cell_id = 22;\n",
       "                var nbb_unformatted_code = \"# isolate the spam and the ham messages in the training set into two different DataFrames\\nham_messages_train = messages_train[messages_train[\\\"Label\\\"] == HAM].copy()\\nspam_messages_train = messages_train[messages_train[\\\"Label\\\"] == SPAM].copy()\";\n",
       "                var nbb_formatted_code = \"# isolate the spam and the ham messages in the training set into two different DataFrames\\nham_messages_train = messages_train[messages_train[\\\"Label\\\"] == HAM].copy()\\nspam_messages_train = messages_train[messages_train[\\\"Label\\\"] == SPAM].copy()\";\n",
       "                var nbb_cells = Jupyter.notebook.get_cells();\n",
       "                for (var i = 0; i < nbb_cells.length; ++i) {\n",
       "                    if (nbb_cells[i].input_prompt_number == nbb_cell_id) {\n",
       "                        if (nbb_cells[i].get_text() == nbb_unformatted_code) {\n",
       "                             nbb_cells[i].set_text(nbb_formatted_code);\n",
       "                        }\n",
       "                        break;\n",
       "                    }\n",
       "                }\n",
       "            }, 500);\n",
       "            "
      ],
      "text/plain": [
       "<IPython.core.display.Javascript object>"
      ]
     },
     "metadata": {},
     "output_type": "display_data"
    }
   ],
   "source": [
    "# isolate the spam and the ham messages in the training set into two different DataFrames\n",
    "ham_messages_train = messages_train[messages_train[\"Label\"] == HAM].copy()\n",
    "spam_messages_train = messages_train[messages_train[\"Label\"] == SPAM].copy()"
   ]
  },
  {
   "cell_type": "code",
   "execution_count": 23,
   "metadata": {},
   "outputs": [
    {
     "data": {
      "application/javascript": [
       "\n",
       "            setTimeout(function() {\n",
       "                var nbb_cell_id = 23;\n",
       "                var nbb_unformatted_code = \"p_ham = ham_messages_train.shape[0] / messages_train.shape[0]\\n\\np_spam = spam_messages_train.shape[0] / messages_train.shape[0]\\n\\nham_words_number = ham_messages_train[\\\"SMS_preprocessed\\\"].apply(len).sum()\\n\\nspam_words_number = spam_messages_train[\\\"SMS_preprocessed\\\"].apply(len).sum()\\n\\nvocabulary_number = len(vocabulary)\";\n",
       "                var nbb_formatted_code = \"p_ham = ham_messages_train.shape[0] / messages_train.shape[0]\\n\\np_spam = spam_messages_train.shape[0] / messages_train.shape[0]\\n\\nham_words_number = ham_messages_train[\\\"SMS_preprocessed\\\"].apply(len).sum()\\n\\nspam_words_number = spam_messages_train[\\\"SMS_preprocessed\\\"].apply(len).sum()\\n\\nvocabulary_number = len(vocabulary)\";\n",
       "                var nbb_cells = Jupyter.notebook.get_cells();\n",
       "                for (var i = 0; i < nbb_cells.length; ++i) {\n",
       "                    if (nbb_cells[i].input_prompt_number == nbb_cell_id) {\n",
       "                        if (nbb_cells[i].get_text() == nbb_unformatted_code) {\n",
       "                             nbb_cells[i].set_text(nbb_formatted_code);\n",
       "                        }\n",
       "                        break;\n",
       "                    }\n",
       "                }\n",
       "            }, 500);\n",
       "            "
      ],
      "text/plain": [
       "<IPython.core.display.Javascript object>"
      ]
     },
     "metadata": {},
     "output_type": "display_data"
    }
   ],
   "source": [
    "p_ham = ham_messages_train.shape[0] / messages_train.shape[0]\n",
    "\n",
    "p_spam = spam_messages_train.shape[0] / messages_train.shape[0]\n",
    "\n",
    "ham_words_number = ham_messages_train[\"SMS_preprocessed\"].apply(len).sum()\n",
    "\n",
    "spam_words_number = spam_messages_train[\"SMS_preprocessed\"].apply(len).sum()\n",
    "\n",
    "vocabulary_number = len(vocabulary)"
   ]
  },
  {
   "cell_type": "markdown",
   "metadata": {},
   "source": [
    "We'll use Laplace smoothing, where $\\alpha=1$."
   ]
  },
  {
   "cell_type": "code",
   "execution_count": 24,
   "metadata": {},
   "outputs": [
    {
     "data": {
      "application/javascript": [
       "\n",
       "            setTimeout(function() {\n",
       "                var nbb_cell_id = 24;\n",
       "                var nbb_unformatted_code = \"# use Laplace smoothing\\nALPHA = 1\";\n",
       "                var nbb_formatted_code = \"# use Laplace smoothing\\nALPHA = 1\";\n",
       "                var nbb_cells = Jupyter.notebook.get_cells();\n",
       "                for (var i = 0; i < nbb_cells.length; ++i) {\n",
       "                    if (nbb_cells[i].input_prompt_number == nbb_cell_id) {\n",
       "                        if (nbb_cells[i].get_text() == nbb_unformatted_code) {\n",
       "                             nbb_cells[i].set_text(nbb_formatted_code);\n",
       "                        }\n",
       "                        break;\n",
       "                    }\n",
       "                }\n",
       "            }, 500);\n",
       "            "
      ],
      "text/plain": [
       "<IPython.core.display.Javascript object>"
      ]
     },
     "metadata": {},
     "output_type": "display_data"
    }
   ],
   "source": [
    "# use Laplace smoothing\n",
    "ALPHA = 1"
   ]
  },
  {
   "cell_type": "markdown",
   "metadata": {},
   "source": [
    "We can use our training set to calculate the probability for each word in our vocabulary, thus we need to calculate both $P(w_{i}|Spam)$ and $P(w_{i}|Non-Spam)$."
   ]
  },
  {
   "cell_type": "markdown",
   "metadata": {},
   "source": [
    "Therefore, we'll calculate all probabilities before even beginning the classification of new message. Which in turn makes Naive Bayes algorithm very fast compared to other algorithms."
   ]
  },
  {
   "cell_type": "markdown",
   "metadata": {},
   "source": [
    "First, we'll initialize two dictionaries to store values for $P(w_{i}|Spam)$ and $P(w_{i}|Non-Spam)$."
   ]
  },
  {
   "cell_type": "code",
   "execution_count": 25,
   "metadata": {},
   "outputs": [
    {
     "data": {
      "application/javascript": [
       "\n",
       "            setTimeout(function() {\n",
       "                var nbb_cell_id = 25;\n",
       "                var nbb_unformatted_code = \"p_ham_vocalubary = {unique_word: 0 for unique_word in vocabulary}\\np_spam_vocalubary = {unique_word: 0 for unique_word in vocabulary}\";\n",
       "                var nbb_formatted_code = \"p_ham_vocalubary = {unique_word: 0 for unique_word in vocabulary}\\np_spam_vocalubary = {unique_word: 0 for unique_word in vocabulary}\";\n",
       "                var nbb_cells = Jupyter.notebook.get_cells();\n",
       "                for (var i = 0; i < nbb_cells.length; ++i) {\n",
       "                    if (nbb_cells[i].input_prompt_number == nbb_cell_id) {\n",
       "                        if (nbb_cells[i].get_text() == nbb_unformatted_code) {\n",
       "                             nbb_cells[i].set_text(nbb_formatted_code);\n",
       "                        }\n",
       "                        break;\n",
       "                    }\n",
       "                }\n",
       "            }, 500);\n",
       "            "
      ],
      "text/plain": [
       "<IPython.core.display.Javascript object>"
      ]
     },
     "metadata": {},
     "output_type": "display_data"
    }
   ],
   "source": [
    "p_ham_vocalubary = {unique_word: 0 for unique_word in vocabulary}\n",
    "p_spam_vocalubary = {unique_word: 0 for unique_word in vocabulary}"
   ]
  },
  {
   "cell_type": "markdown",
   "metadata": {},
   "source": [
    "Although $P(w_{i}|Spam)$ and $P(w_{i}|Non-Spam)$ vary depending on the word, the probability for each individual word is constant for every new message. To calculate these probabilities we also need to determine $N_{w_{i}|Spam}$ and  $N_{w_{i}|Non-Spam}$, which are equal to the number of times the word $w_{i}$ occurs in spam and non-spam messages respectively."
   ]
  },
  {
   "cell_type": "code",
   "execution_count": 26,
   "metadata": {},
   "outputs": [
    {
     "data": {
      "application/javascript": [
       "\n",
       "            setTimeout(function() {\n",
       "                var nbb_cell_id = 26;\n",
       "                var nbb_unformatted_code = \"# calculate probabilities according to the above formulas\\nfor unique_word in vocabulary:\\n    p_ham_vocalubary[unique_word] = (ham_messages_train[unique_word].sum() + ALPHA) / (\\n        ham_words_number + ALPHA * vocabulary_number\\n    )\\n    p_spam_vocalubary[unique_word] = (\\n        spam_messages_train[unique_word].sum() + ALPHA\\n    ) / (spam_words_number + ALPHA * vocabulary_number)\";\n",
       "                var nbb_formatted_code = \"# calculate probabilities according to the above formulas\\nfor unique_word in vocabulary:\\n    p_ham_vocalubary[unique_word] = (ham_messages_train[unique_word].sum() + ALPHA) / (\\n        ham_words_number + ALPHA * vocabulary_number\\n    )\\n    p_spam_vocalubary[unique_word] = (\\n        spam_messages_train[unique_word].sum() + ALPHA\\n    ) / (spam_words_number + ALPHA * vocabulary_number)\";\n",
       "                var nbb_cells = Jupyter.notebook.get_cells();\n",
       "                for (var i = 0; i < nbb_cells.length; ++i) {\n",
       "                    if (nbb_cells[i].input_prompt_number == nbb_cell_id) {\n",
       "                        if (nbb_cells[i].get_text() == nbb_unformatted_code) {\n",
       "                             nbb_cells[i].set_text(nbb_formatted_code);\n",
       "                        }\n",
       "                        break;\n",
       "                    }\n",
       "                }\n",
       "            }, 500);\n",
       "            "
      ],
      "text/plain": [
       "<IPython.core.display.Javascript object>"
      ]
     },
     "metadata": {},
     "output_type": "display_data"
    }
   ],
   "source": [
    "# calculate probabilities according to the above formulas\n",
    "for unique_word in vocabulary:\n",
    "    p_ham_vocalubary[unique_word] = (ham_messages_train[unique_word].sum() + ALPHA) / (\n",
    "        ham_words_number + ALPHA * vocabulary_number\n",
    "    )\n",
    "    p_spam_vocalubary[unique_word] = (\n",
    "        spam_messages_train[unique_word].sum() + ALPHA\n",
    "    ) / (spam_words_number + ALPHA * vocabulary_number)"
   ]
  },
  {
   "cell_type": "markdown",
   "metadata": {},
   "source": [
    "Now that we've calculated all the constants and parameters we need, we can start creating the spam filter. The spam filter can be understood as a function that takes in as input a new message, calculates probabilities and compares these values in order to classify new message as spam or non-spam."
   ]
  },
  {
   "cell_type": "markdown",
   "metadata": {},
   "source": [
    "Note that some new messages might contain words that are not part of the vocabulary. We can simply ignore these words when we're calculating the probabilities."
   ]
  },
  {
   "cell_type": "code",
   "execution_count": 27,
   "metadata": {},
   "outputs": [
    {
     "data": {
      "application/javascript": [
       "\n",
       "            setTimeout(function() {\n",
       "                var nbb_cell_id = 27;\n",
       "                var nbb_unformatted_code = \"def process_message(message):\\n    \\\"\\\"\\\"Removes the punctuation and brings all\\n    the words to lower case in the message.\\n\\n    Args:\\n       message (str): Raw text message which needs to preprocess.\\n\\n    Returns:\\n       list: Message split into a list of lower case words without punctuation.\\n    \\\"\\\"\\\"\\n    message = re.sub(\\\"\\\\W\\\", \\\" \\\", message)\\n    message = message.lower().split()\\n    return message\\n\\n\\ndef calculate_probability(message, category):\\n    \\\"\\\"\\\"Calculates probability P(category|message).\\n    The message must be pre-processed.\\n\\n    Args:\\n       message (list): A list of words that make up the message.\\n       category (str): The category should be `spam` or `ham`.\\n\\n    Returns:\\n       float: Calculated probability.\\n\\n    \\\"\\\"\\\"\\n\\n    if category == SPAM:\\n        probability = p_spam\\n        for word in message:\\n            if word in p_spam_vocalubary:\\n                probability *= p_spam_vocalubary[word]\\n\\n    if category == HAM:\\n        probability = p_ham\\n        for word in message:\\n            if word in p_ham_vocalubary:\\n                probability *= p_ham_vocalubary[word]\\n\\n    return probability\\n\\n\\ndef classify(message):\\n    \\\"\\\"\\\"Performs data cleaning on string `message` and then\\n    classifies category, which message belongs to.\\n\\n    Args:\\n       message (str): Raw text message which needs to preprocess and classify.\\n\\n    Returns:\\n       str: a classification label `spam` or `ham`. If probabilities are equal,\\n         then reurns `needs human classification`.\\n\\n    \\\"\\\"\\\"\\n    message = process_message(message)\\n\\n    p_spam_given_message = calculate_probability(message, SPAM)\\n    p_ham_given_message = calculate_probability(message, HAM)\\n\\n    if p_ham_given_message > p_spam_given_message:\\n        return HAM\\n    elif p_ham_given_message < p_spam_given_message:\\n        return SPAM\\n    else:\\n        return \\\"needs human classification\\\"\";\n",
       "                var nbb_formatted_code = \"def process_message(message):\\n    \\\"\\\"\\\"Removes the punctuation and brings all\\n    the words to lower case in the message.\\n\\n    Args:\\n       message (str): Raw text message which needs to preprocess.\\n\\n    Returns:\\n       list: Message split into a list of lower case words without punctuation.\\n    \\\"\\\"\\\"\\n    message = re.sub(\\\"\\\\W\\\", \\\" \\\", message)\\n    message = message.lower().split()\\n    return message\\n\\n\\ndef calculate_probability(message, category):\\n    \\\"\\\"\\\"Calculates probability P(category|message).\\n    The message must be pre-processed.\\n\\n    Args:\\n       message (list): A list of words that make up the message.\\n       category (str): The category should be `spam` or `ham`.\\n\\n    Returns:\\n       float: Calculated probability.\\n\\n    \\\"\\\"\\\"\\n\\n    if category == SPAM:\\n        probability = p_spam\\n        for word in message:\\n            if word in p_spam_vocalubary:\\n                probability *= p_spam_vocalubary[word]\\n\\n    if category == HAM:\\n        probability = p_ham\\n        for word in message:\\n            if word in p_ham_vocalubary:\\n                probability *= p_ham_vocalubary[word]\\n\\n    return probability\\n\\n\\ndef classify(message):\\n    \\\"\\\"\\\"Performs data cleaning on string `message` and then\\n    classifies category, which message belongs to.\\n\\n    Args:\\n       message (str): Raw text message which needs to preprocess and classify.\\n\\n    Returns:\\n       str: a classification label `spam` or `ham`. If probabilities are equal,\\n         then reurns `needs human classification`.\\n\\n    \\\"\\\"\\\"\\n    message = process_message(message)\\n\\n    p_spam_given_message = calculate_probability(message, SPAM)\\n    p_ham_given_message = calculate_probability(message, HAM)\\n\\n    if p_ham_given_message > p_spam_given_message:\\n        return HAM\\n    elif p_ham_given_message < p_spam_given_message:\\n        return SPAM\\n    else:\\n        return \\\"needs human classification\\\"\";\n",
       "                var nbb_cells = Jupyter.notebook.get_cells();\n",
       "                for (var i = 0; i < nbb_cells.length; ++i) {\n",
       "                    if (nbb_cells[i].input_prompt_number == nbb_cell_id) {\n",
       "                        if (nbb_cells[i].get_text() == nbb_unformatted_code) {\n",
       "                             nbb_cells[i].set_text(nbb_formatted_code);\n",
       "                        }\n",
       "                        break;\n",
       "                    }\n",
       "                }\n",
       "            }, 500);\n",
       "            "
      ],
      "text/plain": [
       "<IPython.core.display.Javascript object>"
      ]
     },
     "metadata": {},
     "output_type": "display_data"
    }
   ],
   "source": [
    "def process_message(message):\n",
    "    \"\"\"Removes the punctuation and brings all\n",
    "    the words to lower case in the message.\n",
    "\n",
    "    Args:\n",
    "       message (str): Raw text message which needs to preprocess.\n",
    "\n",
    "    Returns:\n",
    "       list: Message split into a list of lower case words without punctuation.\n",
    "    \"\"\"\n",
    "    message = re.sub(\"\\W\", \" \", message)\n",
    "    message = message.lower().split()\n",
    "    return message\n",
    "\n",
    "\n",
    "def calculate_probability(message, category):\n",
    "    \"\"\"Calculates probability P(category|message).\n",
    "    The message must be pre-processed.\n",
    "\n",
    "    Args:\n",
    "       message (list): A list of words that make up the message.\n",
    "       category (str): The category should be `spam` or `ham`.\n",
    "\n",
    "    Returns:\n",
    "       float: Calculated probability.\n",
    "\n",
    "    \"\"\"\n",
    "\n",
    "    if category == SPAM:\n",
    "        probability = p_spam\n",
    "        for word in message:\n",
    "            if word in p_spam_vocalubary:\n",
    "                probability *= p_spam_vocalubary[word]\n",
    "\n",
    "    if category == HAM:\n",
    "        probability = p_ham\n",
    "        for word in message:\n",
    "            if word in p_ham_vocalubary:\n",
    "                probability *= p_ham_vocalubary[word]\n",
    "\n",
    "    return probability\n",
    "\n",
    "\n",
    "def classify(message):\n",
    "    \"\"\"Performs data cleaning on string `message` and then\n",
    "    classifies category, which message belongs to.\n",
    "\n",
    "    Args:\n",
    "       message (str): Raw text message which needs to preprocess and classify.\n",
    "\n",
    "    Returns:\n",
    "       str: A classification label `spam` or `ham`. If probabilities are equal,\n",
    "         then reurns `needs human classification`.\n",
    "\n",
    "    \"\"\"\n",
    "    message = process_message(message)\n",
    "\n",
    "    p_spam_given_message = calculate_probability(message, SPAM)\n",
    "    p_ham_given_message = calculate_probability(message, HAM)\n",
    "\n",
    "    if p_ham_given_message > p_spam_given_message:\n",
    "        return HAM\n",
    "    elif p_ham_given_message < p_spam_given_message:\n",
    "        return SPAM\n",
    "    else:\n",
    "        return \"needs human classification\""
   ]
  },
  {
   "cell_type": "markdown",
   "metadata": {},
   "source": [
    "## Test the Classifier"
   ]
  },
  {
   "cell_type": "markdown",
   "metadata": {},
   "source": [
    "Now we can use `classify()` function to categorize messages. First, let's test the function. We take the one that is obviously spam message, and the another is obviously ham."
   ]
  },
  {
   "cell_type": "code",
   "execution_count": 28,
   "metadata": {},
   "outputs": [
    {
     "data": {
      "text/plain": [
       "'spam'"
      ]
     },
     "execution_count": 28,
     "metadata": {},
     "output_type": "execute_result"
    },
    {
     "data": {
      "application/javascript": [
       "\n",
       "            setTimeout(function() {\n",
       "                var nbb_cell_id = 28;\n",
       "                var nbb_unformatted_code = \"classify(\\\"WINNER!! This is the secret code to unlock the money: C3421.\\\")\";\n",
       "                var nbb_formatted_code = \"classify(\\\"WINNER!! This is the secret code to unlock the money: C3421.\\\")\";\n",
       "                var nbb_cells = Jupyter.notebook.get_cells();\n",
       "                for (var i = 0; i < nbb_cells.length; ++i) {\n",
       "                    if (nbb_cells[i].input_prompt_number == nbb_cell_id) {\n",
       "                        if (nbb_cells[i].get_text() == nbb_unformatted_code) {\n",
       "                             nbb_cells[i].set_text(nbb_formatted_code);\n",
       "                        }\n",
       "                        break;\n",
       "                    }\n",
       "                }\n",
       "            }, 500);\n",
       "            "
      ],
      "text/plain": [
       "<IPython.core.display.Javascript object>"
      ]
     },
     "metadata": {},
     "output_type": "display_data"
    }
   ],
   "source": [
    "classify(\"WINNER!! This is the secret code to unlock the money: C3421.\")"
   ]
  },
  {
   "cell_type": "code",
   "execution_count": 29,
   "metadata": {},
   "outputs": [
    {
     "data": {
      "text/plain": [
       "'ham'"
      ]
     },
     "execution_count": 29,
     "metadata": {},
     "output_type": "execute_result"
    },
    {
     "data": {
      "application/javascript": [
       "\n",
       "            setTimeout(function() {\n",
       "                var nbb_cell_id = 29;\n",
       "                var nbb_unformatted_code = \"classify(\\\"Sounds good, Tom, then see u there\\\")\";\n",
       "                var nbb_formatted_code = \"classify(\\\"Sounds good, Tom, then see u there\\\")\";\n",
       "                var nbb_cells = Jupyter.notebook.get_cells();\n",
       "                for (var i = 0; i < nbb_cells.length; ++i) {\n",
       "                    if (nbb_cells[i].input_prompt_number == nbb_cell_id) {\n",
       "                        if (nbb_cells[i].get_text() == nbb_unformatted_code) {\n",
       "                             nbb_cells[i].set_text(nbb_formatted_code);\n",
       "                        }\n",
       "                        break;\n",
       "                    }\n",
       "                }\n",
       "            }, 500);\n",
       "            "
      ],
      "text/plain": [
       "<IPython.core.display.Javascript object>"
      ]
     },
     "metadata": {},
     "output_type": "display_data"
    }
   ],
   "source": [
    "classify(\"Sounds good, Tom, then see u there\")"
   ]
  },
  {
   "cell_type": "markdown",
   "metadata": {},
   "source": [
    "Now we'll try to determine how well the spam filter does on our test set with about 1000 messages."
   ]
  },
  {
   "cell_type": "markdown",
   "metadata": {},
   "source": [
    "The algorithm will output a classification label for every message in our test set, which we'll be able to compare with the actual label."
   ]
  },
  {
   "cell_type": "code",
   "execution_count": 30,
   "metadata": {},
   "outputs": [
    {
     "data": {
      "application/javascript": [
       "\n",
       "            setTimeout(function() {\n",
       "                var nbb_cell_id = 30;\n",
       "                var nbb_unformatted_code = \"messages_test.loc[:, \\\"Predicted\\\"] = messages_test.loc[:, \\\"SMS\\\"].apply(classify)\";\n",
       "                var nbb_formatted_code = \"messages_test.loc[:, \\\"Predicted\\\"] = messages_test.loc[:, \\\"SMS\\\"].apply(classify)\";\n",
       "                var nbb_cells = Jupyter.notebook.get_cells();\n",
       "                for (var i = 0; i < nbb_cells.length; ++i) {\n",
       "                    if (nbb_cells[i].input_prompt_number == nbb_cell_id) {\n",
       "                        if (nbb_cells[i].get_text() == nbb_unformatted_code) {\n",
       "                             nbb_cells[i].set_text(nbb_formatted_code);\n",
       "                        }\n",
       "                        break;\n",
       "                    }\n",
       "                }\n",
       "            }, 500);\n",
       "            "
      ],
      "text/plain": [
       "<IPython.core.display.Javascript object>"
      ]
     },
     "metadata": {},
     "output_type": "display_data"
    }
   ],
   "source": [
    "messages_test.loc[:, \"Predicted\"] = messages_test.loc[:, \"SMS\"].apply(classify)"
   ]
  },
  {
   "cell_type": "markdown",
   "metadata": {},
   "source": [
    "Now we can measure how good our spam filter is with classifying new messages. As we mentioned before we'll use accuracy as a metric:\n",
    "$\\Large accuracy=\\frac{number\\; of\\; correctly\\; classified\\; messages}{total\\; number\\; of\\; classified\\; messages}$"
   ]
  },
  {
   "cell_type": "code",
   "execution_count": 31,
   "metadata": {},
   "outputs": [
    {
     "data": {
      "application/javascript": [
       "\n",
       "            setTimeout(function() {\n",
       "                var nbb_cell_id = 31;\n",
       "                var nbb_unformatted_code = \"total = messages_test.shape[0]\\ncorrect = (messages_test[\\\"Predicted\\\"] == messages_test[\\\"Label\\\"]).sum()\\n\\naccuracy = correct / total * 100\";\n",
       "                var nbb_formatted_code = \"total = messages_test.shape[0]\\ncorrect = (messages_test[\\\"Predicted\\\"] == messages_test[\\\"Label\\\"]).sum()\\n\\naccuracy = correct / total * 100\";\n",
       "                var nbb_cells = Jupyter.notebook.get_cells();\n",
       "                for (var i = 0; i < nbb_cells.length; ++i) {\n",
       "                    if (nbb_cells[i].input_prompt_number == nbb_cell_id) {\n",
       "                        if (nbb_cells[i].get_text() == nbb_unformatted_code) {\n",
       "                             nbb_cells[i].set_text(nbb_formatted_code);\n",
       "                        }\n",
       "                        break;\n",
       "                    }\n",
       "                }\n",
       "            }, 500);\n",
       "            "
      ],
      "text/plain": [
       "<IPython.core.display.Javascript object>"
      ]
     },
     "metadata": {},
     "output_type": "display_data"
    }
   ],
   "source": [
    "total = messages_test.shape[0]\n",
    "correct = (messages_test[\"Predicted\"] == messages_test[\"Label\"]).sum()\n",
    "\n",
    "accuracy = correct / total * 100"
   ]
  },
  {
   "cell_type": "code",
   "execution_count": 32,
   "metadata": {},
   "outputs": [
    {
     "data": {
      "text/plain": [
       "98.74326750448833"
      ]
     },
     "execution_count": 32,
     "metadata": {},
     "output_type": "execute_result"
    },
    {
     "data": {
      "application/javascript": [
       "\n",
       "            setTimeout(function() {\n",
       "                var nbb_cell_id = 32;\n",
       "                var nbb_unformatted_code = \"accuracy\";\n",
       "                var nbb_formatted_code = \"accuracy\";\n",
       "                var nbb_cells = Jupyter.notebook.get_cells();\n",
       "                for (var i = 0; i < nbb_cells.length; ++i) {\n",
       "                    if (nbb_cells[i].input_prompt_number == nbb_cell_id) {\n",
       "                        if (nbb_cells[i].get_text() == nbb_unformatted_code) {\n",
       "                             nbb_cells[i].set_text(nbb_formatted_code);\n",
       "                        }\n",
       "                        break;\n",
       "                    }\n",
       "                }\n",
       "            }, 500);\n",
       "            "
      ],
      "text/plain": [
       "<IPython.core.display.Javascript object>"
      ]
     },
     "metadata": {},
     "output_type": "display_data"
    }
   ],
   "source": [
    "accuracy"
   ]
  },
  {
   "cell_type": "markdown",
   "metadata": {},
   "source": [
    "Accuracy is about 98%, it's better than we expected."
   ]
  },
  {
   "cell_type": "markdown",
   "metadata": {},
   "source": [
    "It's interesting to look at messages, which were classified incorrectly and try to figure out why."
   ]
  },
  {
   "cell_type": "code",
   "execution_count": 33,
   "metadata": {},
   "outputs": [
    {
     "data": {
      "text/html": [
       "<div>\n",
       "<style scoped>\n",
       "    .dataframe tbody tr th:only-of-type {\n",
       "        vertical-align: middle;\n",
       "    }\n",
       "\n",
       "    .dataframe tbody tr th {\n",
       "        vertical-align: top;\n",
       "    }\n",
       "\n",
       "    .dataframe thead th {\n",
       "        text-align: right;\n",
       "    }\n",
       "</style>\n",
       "<table border=\"1\" class=\"dataframe\">\n",
       "  <thead>\n",
       "    <tr style=\"text-align: right;\">\n",
       "      <th></th>\n",
       "      <th>Label</th>\n",
       "      <th>SMS</th>\n",
       "      <th>Predicted</th>\n",
       "    </tr>\n",
       "  </thead>\n",
       "  <tbody>\n",
       "    <tr>\n",
       "      <th>3890</th>\n",
       "      <td>ham</td>\n",
       "      <td>Unlimited texts. Limited minutes.</td>\n",
       "      <td>spam</td>\n",
       "    </tr>\n",
       "    <tr>\n",
       "      <th>991</th>\n",
       "      <td>ham</td>\n",
       "      <td>26th OF JULY</td>\n",
       "      <td>spam</td>\n",
       "    </tr>\n",
       "    <tr>\n",
       "      <th>4862</th>\n",
       "      <td>ham</td>\n",
       "      <td>Nokia phone is lovly..</td>\n",
       "      <td>spam</td>\n",
       "    </tr>\n",
       "    <tr>\n",
       "      <th>2370</th>\n",
       "      <td>ham</td>\n",
       "      <td>A Boy loved a gal. He propsd bt she didnt mind. He gv lv lttrs, Bt her frnds threw thm. Again d boy decided 2 aproach d gal , dt time a truck was speeding towards d gal. Wn it was about 2 hit d girl,d boy ran like hell n saved her. She asked 'hw cn u run so fast?' D boy replied \"Boost is d secret of my energy\" n instantly d girl shouted \"our energy\" n Thy lived happily 2gthr drinking boost evrydy Moral of d story:- I hv free msgs:D;): gud ni8</td>\n",
       "      <td>needs human classification</td>\n",
       "    </tr>\n",
       "    <tr>\n",
       "      <th>326</th>\n",
       "      <td>ham</td>\n",
       "      <td>No calls..messages..missed calls</td>\n",
       "      <td>spam</td>\n",
       "    </tr>\n",
       "    <tr>\n",
       "      <th>5046</th>\n",
       "      <td>ham</td>\n",
       "      <td>We have sent JD for Customer Service cum Accounts Executive to ur mail id, For details contact us</td>\n",
       "      <td>spam</td>\n",
       "    </tr>\n",
       "    <tr>\n",
       "      <th>3460</th>\n",
       "      <td>spam</td>\n",
       "      <td>Not heard from U4 a while. Call me now am here all night with just my knickers on. Make me beg for it like U did last time 01223585236 XX Luv Nikiyu4.net</td>\n",
       "      <td>ham</td>\n",
       "    </tr>\n",
       "    <tr>\n",
       "      <th>1940</th>\n",
       "      <td>spam</td>\n",
       "      <td>More people are dogging in your area now. Call 09090204448 and join like minded guys. Why not arrange 1 yourself. There's 1 this evening. A£1.50 minAPN LS278BB</td>\n",
       "      <td>ham</td>\n",
       "    </tr>\n",
       "    <tr>\n",
       "      <th>3864</th>\n",
       "      <td>spam</td>\n",
       "      <td>Oh my god! I've found your number again! I'm so glad, text me back xafter this msgs cst std ntwk chg £1.50</td>\n",
       "      <td>ham</td>\n",
       "    </tr>\n",
       "    <tr>\n",
       "      <th>4676</th>\n",
       "      <td>spam</td>\n",
       "      <td>Hi babe its Chloe, how r u? I was smashed on saturday night, it was great! How was your weekend? U been missing me? SP visionsms.com Text stop to stop 150p/text</td>\n",
       "      <td>ham</td>\n",
       "    </tr>\n",
       "    <tr>\n",
       "      <th>1638</th>\n",
       "      <td>spam</td>\n",
       "      <td>0A$NETWORKS allow companies to bill for SMS, so they are responsible for their \"suppliers\", just as a shop has to give a guarantee on what they sell. B. G.</td>\n",
       "      <td>ham</td>\n",
       "    </tr>\n",
       "    <tr>\n",
       "      <th>3302</th>\n",
       "      <td>spam</td>\n",
       "      <td>RCT' THNQ Adrian for U text. Rgds Vatian</td>\n",
       "      <td>ham</td>\n",
       "    </tr>\n",
       "    <tr>\n",
       "      <th>3742</th>\n",
       "      <td>spam</td>\n",
       "      <td>2/2 146tf150p</td>\n",
       "      <td>ham</td>\n",
       "    </tr>\n",
       "    <tr>\n",
       "      <th>869</th>\n",
       "      <td>spam</td>\n",
       "      <td>Hello. We need some posh birds and chaps to user trial prods for champneys. Can i put you down? I need your address and dob asap. Ta r</td>\n",
       "      <td>ham</td>\n",
       "    </tr>\n",
       "  </tbody>\n",
       "</table>\n",
       "</div>"
      ],
      "text/plain": [
       "     Label  \\\n",
       "3890   ham   \n",
       "991    ham   \n",
       "4862   ham   \n",
       "2370   ham   \n",
       "326    ham   \n",
       "5046   ham   \n",
       "3460  spam   \n",
       "1940  spam   \n",
       "3864  spam   \n",
       "4676  spam   \n",
       "1638  spam   \n",
       "3302  spam   \n",
       "3742  spam   \n",
       "869   spam   \n",
       "\n",
       "                                                                                                                                                                                                                                                                                                                                                                                                                                                                 SMS  \\\n",
       "3890                                                                                                                                                                                                                                                                                                                                                                                                                               Unlimited texts. Limited minutes.   \n",
       "991                                                                                                                                                                                                                                                                                                                                                                                                                                                     26th OF JULY   \n",
       "4862                                                                                                                                                                                                                                                                                                                                                                                                                                          Nokia phone is lovly..   \n",
       "2370  A Boy loved a gal. He propsd bt she didnt mind. He gv lv lttrs, Bt her frnds threw thm. Again d boy decided 2 aproach d gal , dt time a truck was speeding towards d gal. Wn it was about 2 hit d girl,d boy ran like hell n saved her. She asked 'hw cn u run so fast?' D boy replied \"Boost is d secret of my energy\" n instantly d girl shouted \"our energy\" n Thy lived happily 2gthr drinking boost evrydy Moral of d story:- I hv free msgs:D;): gud ni8   \n",
       "326                                                                                                                                                                                                                                                                                                                                                                                                                                 No calls..messages..missed calls   \n",
       "5046                                                                                                                                                                                                                                                                                                                                                               We have sent JD for Customer Service cum Accounts Executive to ur mail id, For details contact us   \n",
       "3460                                                                                                                                                                                                                                                                                                       Not heard from U4 a while. Call me now am here all night with just my knickers on. Make me beg for it like U did last time 01223585236 XX Luv Nikiyu4.net   \n",
       "1940                                                                                                                                                                                                                                                                                                 More people are dogging in your area now. Call 09090204448 and join like minded guys. Why not arrange 1 yourself. There's 1 this evening. A£1.50 minAPN LS278BB   \n",
       "3864                                                                                                                                                                                                                                                                                                                                                      Oh my god! I've found your number again! I'm so glad, text me back xafter this msgs cst std ntwk chg £1.50   \n",
       "4676                                                                                                                                                                                                                                                                                                Hi babe its Chloe, how r u? I was smashed on saturday night, it was great! How was your weekend? U been missing me? SP visionsms.com Text stop to stop 150p/text   \n",
       "1638                                                                                                                                                                                                                                                                                                     0A$NETWORKS allow companies to bill for SMS, so they are responsible for their \"suppliers\", just as a shop has to give a guarantee on what they sell. B. G.   \n",
       "3302                                                                                                                                                                                                                                                                                                                                                                                                                        RCT' THNQ Adrian for U text. Rgds Vatian   \n",
       "3742                                                                                                                                                                                                                                                                                                                                                                                                                                                   2/2 146tf150p   \n",
       "869                                                                                                                                                                                                                                                                                                                           Hello. We need some posh birds and chaps to user trial prods for champneys. Can i put you down? I need your address and dob asap. Ta r   \n",
       "\n",
       "                       Predicted  \n",
       "3890                        spam  \n",
       "991                         spam  \n",
       "4862                        spam  \n",
       "2370  needs human classification  \n",
       "326                         spam  \n",
       "5046                        spam  \n",
       "3460                         ham  \n",
       "1940                         ham  \n",
       "3864                         ham  \n",
       "4676                         ham  \n",
       "1638                         ham  \n",
       "3302                         ham  \n",
       "3742                         ham  \n",
       "869                          ham  "
      ]
     },
     "execution_count": 33,
     "metadata": {},
     "output_type": "execute_result"
    },
    {
     "data": {
      "application/javascript": [
       "\n",
       "            setTimeout(function() {\n",
       "                var nbb_cell_id = 33;\n",
       "                var nbb_unformatted_code = \"# change maximum width of column to unlimited\\npd.set_option(\\\"display.max_colwidth\\\", None)\\n\\n# incorrect messages\\nmessages_test[messages_test[\\\"Predicted\\\"] != messages_test[\\\"Label\\\"]].sort_values(\\n    by=\\\"Label\\\"\\n)\";\n",
       "                var nbb_formatted_code = \"# change maximum width of column to unlimited\\npd.set_option(\\\"display.max_colwidth\\\", None)\\n\\n# incorrect messages\\nmessages_test[messages_test[\\\"Predicted\\\"] != messages_test[\\\"Label\\\"]].sort_values(\\n    by=\\\"Label\\\"\\n)\";\n",
       "                var nbb_cells = Jupyter.notebook.get_cells();\n",
       "                for (var i = 0; i < nbb_cells.length; ++i) {\n",
       "                    if (nbb_cells[i].input_prompt_number == nbb_cell_id) {\n",
       "                        if (nbb_cells[i].get_text() == nbb_unformatted_code) {\n",
       "                             nbb_cells[i].set_text(nbb_formatted_code);\n",
       "                        }\n",
       "                        break;\n",
       "                    }\n",
       "                }\n",
       "            }, 500);\n",
       "            "
      ],
      "text/plain": [
       "<IPython.core.display.Javascript object>"
      ]
     },
     "metadata": {},
     "output_type": "display_data"
    }
   ],
   "source": [
    "# change maximum width of column to unlimited\n",
    "pd.set_option(\"display.max_colwidth\", None)\n",
    "\n",
    "# incorrect messages\n",
    "messages_test[messages_test[\"Predicted\"] != messages_test[\"Label\"]].sort_values(\n",
    "    by=\"Label\"\n",
    ")"
   ]
  },
  {
   "cell_type": "markdown",
   "metadata": {},
   "source": [
    "There are only 14 incorrect labeled messages. By inspecting the above table, we obtained the following information - it seems, that currency sign and presence of web address might signal that new message could be spam. On the other hand, if message contains such words as `contact`, `unlimited`, `calls` and message is short enough, this increases the chances of being marked as spam."
   ]
  },
  {
   "cell_type": "markdown",
   "metadata": {},
   "source": [
    "## Visualize Word Cloud"
   ]
  },
  {
   "cell_type": "markdown",
   "metadata": {},
   "source": [
    "Let's illustrate what words and bigrams are the most popular in spam and non-spam messages.The word cloud is perfect for such representation."
   ]
  },
  {
   "cell_type": "code",
   "execution_count": 34,
   "metadata": {},
   "outputs": [
    {
     "data": {
      "application/javascript": [
       "\n",
       "            setTimeout(function() {\n",
       "                var nbb_cell_id = 34;\n",
       "                var nbb_unformatted_code = \"# list of words is needed to be converted in text for generating word cloud\\nspam_text = \\\" \\\".join(spam_messages_train[\\\"SMS_preprocessed\\\"].str.join(\\\" \\\"))\";\n",
       "                var nbb_formatted_code = \"# list of words is needed to be converted in text for generating word cloud\\nspam_text = \\\" \\\".join(spam_messages_train[\\\"SMS_preprocessed\\\"].str.join(\\\" \\\"))\";\n",
       "                var nbb_cells = Jupyter.notebook.get_cells();\n",
       "                for (var i = 0; i < nbb_cells.length; ++i) {\n",
       "                    if (nbb_cells[i].input_prompt_number == nbb_cell_id) {\n",
       "                        if (nbb_cells[i].get_text() == nbb_unformatted_code) {\n",
       "                             nbb_cells[i].set_text(nbb_formatted_code);\n",
       "                        }\n",
       "                        break;\n",
       "                    }\n",
       "                }\n",
       "            }, 500);\n",
       "            "
      ],
      "text/plain": [
       "<IPython.core.display.Javascript object>"
      ]
     },
     "metadata": {},
     "output_type": "display_data"
    }
   ],
   "source": [
    "# list of words is needed to be converted in text for generating word cloud\n",
    "spam_text = \" \".join(spam_messages_train[\"SMS_preprocessed\"].str.join(\" \"))"
   ]
  },
  {
   "cell_type": "code",
   "execution_count": 35,
   "metadata": {},
   "outputs": [
    {
     "data": {
      "application/javascript": [
       "\n",
       "            setTimeout(function() {\n",
       "                var nbb_cell_id = 35;\n",
       "                var nbb_unformatted_code = \"ham_text = \\\" \\\".join(ham_messages_train[\\\"SMS_preprocessed\\\"].str.join(\\\" \\\"))\";\n",
       "                var nbb_formatted_code = \"ham_text = \\\" \\\".join(ham_messages_train[\\\"SMS_preprocessed\\\"].str.join(\\\" \\\"))\";\n",
       "                var nbb_cells = Jupyter.notebook.get_cells();\n",
       "                for (var i = 0; i < nbb_cells.length; ++i) {\n",
       "                    if (nbb_cells[i].input_prompt_number == nbb_cell_id) {\n",
       "                        if (nbb_cells[i].get_text() == nbb_unformatted_code) {\n",
       "                             nbb_cells[i].set_text(nbb_formatted_code);\n",
       "                        }\n",
       "                        break;\n",
       "                    }\n",
       "                }\n",
       "            }, 500);\n",
       "            "
      ],
      "text/plain": [
       "<IPython.core.display.Javascript object>"
      ]
     },
     "metadata": {},
     "output_type": "display_data"
    }
   ],
   "source": [
    "ham_text = \" \".join(ham_messages_train[\"SMS_preprocessed\"].str.join(\" \"))"
   ]
  },
  {
   "cell_type": "code",
   "execution_count": 36,
   "metadata": {},
   "outputs": [
    {
     "data": {
      "image/png": "[encoded data removed]",
      "text/plain": [
       "<Figure size 1440x432 with 2 Axes>"
      ]
     },
     "metadata": {
      "needs_background": "light"
     },
     "output_type": "display_data"
    },
    {
     "data": {
      "application/javascript": [
       "\n",
       "            setTimeout(function() {\n",
       "                var nbb_cell_id = 36;\n",
       "                var nbb_unformatted_code = \"fig, axes = plt.subplots(1, 2, figsize=(20, 6))\\n\\n# Create and generate a word cloud image:\\nwordcloud_spam = WordCloud(max_words=50, background_color=\\\"white\\\").generate(spam_text)\\naxes[0].imshow(wordcloud_spam, interpolation=\\\"bilinear\\\")\\naxes[0].axis(\\\"off\\\")\\naxes[0].set_title(\\\"Top spam words\\\", fontsize=25, y=1.05)\\n\\nwordcloud_ham = WordCloud(max_words=50, background_color=\\\"white\\\").generate(ham_text)\\naxes[1].imshow(wordcloud_ham, interpolation=\\\"bilinear\\\")\\naxes[1].axis(\\\"off\\\")\\naxes[1].set_title(\\\"Top non-spam words\\\", fontsize=25, y=1.05)\\nfig.set_title = \\\"\\\"\";\n",
       "                var nbb_formatted_code = \"fig, axes = plt.subplots(1, 2, figsize=(20, 6))\\n\\n# Create and generate a word cloud image:\\nwordcloud_spam = WordCloud(max_words=50, background_color=\\\"white\\\").generate(spam_text)\\naxes[0].imshow(wordcloud_spam, interpolation=\\\"bilinear\\\")\\naxes[0].axis(\\\"off\\\")\\naxes[0].set_title(\\\"Top spam words\\\", fontsize=25, y=1.05)\\n\\nwordcloud_ham = WordCloud(max_words=50, background_color=\\\"white\\\").generate(ham_text)\\naxes[1].imshow(wordcloud_ham, interpolation=\\\"bilinear\\\")\\naxes[1].axis(\\\"off\\\")\\naxes[1].set_title(\\\"Top non-spam words\\\", fontsize=25, y=1.05)\\nfig.set_title = \\\"\\\"\";\n",
       "                var nbb_cells = Jupyter.notebook.get_cells();\n",
       "                for (var i = 0; i < nbb_cells.length; ++i) {\n",
       "                    if (nbb_cells[i].input_prompt_number == nbb_cell_id) {\n",
       "                        if (nbb_cells[i].get_text() == nbb_unformatted_code) {\n",
       "                             nbb_cells[i].set_text(nbb_formatted_code);\n",
       "                        }\n",
       "                        break;\n",
       "                    }\n",
       "                }\n",
       "            }, 500);\n",
       "            "
      ],
      "text/plain": [
       "<IPython.core.display.Javascript object>"
      ]
     },
     "metadata": {},
     "output_type": "display_data"
    }
   ],
   "source": [
    "fig, axes = plt.subplots(1, 2, figsize=(20, 6))\n",
    "\n",
    "# Create and generate a word cloud image:\n",
    "wordcloud_spam = WordCloud(max_words=50, background_color=\"white\").generate(spam_text)\n",
    "axes[0].imshow(wordcloud_spam, interpolation=\"bilinear\")\n",
    "axes[0].axis(\"off\")\n",
    "axes[0].set_title(\"Top spam words\", fontsize=25, y=1.05)\n",
    "\n",
    "wordcloud_ham = WordCloud(max_words=50, background_color=\"white\").generate(ham_text)\n",
    "axes[1].imshow(wordcloud_ham, interpolation=\"bilinear\")\n",
    "axes[1].axis(\"off\")\n",
    "axes[1].set_title(\"Top non-spam words\", fontsize=25, y=1.05)\n",
    "fig.set_title = \"\""
   ]
  },
  {
   "cell_type": "markdown",
   "metadata": {},
   "source": [
    "## Conclusion"
   ]
  },
  {
   "cell_type": "markdown",
   "metadata": {},
   "source": [
    "In this project, we created a spam filter for SMS messages using the multinomial Naive Bayes algorithm. The filter has an accuracy of 98.74% on the test set. Despite being \"naive\", the algorithm shows an excellent result. "
   ]
  }
 ],
 "metadata": {
  "kernelspec": {
   "display_name": "Python 3",
   "language": "python",
   "name": "python3"
  },
  "language_info": {
   "codemirror_mode": {
    "name": "ipython",
    "version": 3
   },
   "file_extension": ".py",
   "mimetype": "text/x-python",
   "name": "python",
   "nbconvert_exporter": "python",
   "pygments_lexer": "ipython3",
   "version": "3.7.7"
  },
  "toc": {
   "base_numbering": 1,
   "nav_menu": {},
   "number_sections": true,
   "sideBar": true,
   "skip_h1_title": true,
   "title_cell": "Table of Contents",
   "title_sidebar": "Contents",
   "toc_cell": true,
   "toc_position": {},
   "toc_section_display": true,
   "toc_window_display": false
  },
  "varInspector": {
   "cols": {
    "lenName": 16,
    "lenType": 16,
    "lenVar": 40
   },
   "kernels_config": {
    "python": {
     "delete_cmd_postfix": "",
     "delete_cmd_prefix": "del ",
     "library": "var_list.py",
     "varRefreshCmd": "print(var_dic_list())"
    },
    "r": {
     "delete_cmd_postfix": ") ",
     "delete_cmd_prefix": "rm(",
     "library": "var_list.r",
     "varRefreshCmd": "cat(var_dic_list()) "
    }
   },
   "types_to_exclude": [
    "module",
    "function",
    "builtin_function_or_method",
    "instance",
    "_Feature"
   ],
   "window_display": false
  }
 },
 "nbformat": 4,
 "nbformat_minor": 4
}
